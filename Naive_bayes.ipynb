{
 "cells": [
  {
   "cell_type": "code",
   "execution_count": 1,
   "metadata": {},
   "outputs": [],
   "source": [
    "import numpy as np\n",
    "import  pandas as pd\n",
    "from sklearn.metrics import accuracy_score\n",
    "from sklearn.naive_bayes import BernoulliNB"
   ]
  },
  {
   "cell_type": "code",
   "execution_count": 2,
   "metadata": {},
   "outputs": [],
   "source": [
    "def data_pro_scal():\n",
    "    NB_halt_words = pd.read_csv(filepath_or_buffer='stoplist.txt', header=None)\n",
    "    NB_halt_words = NB_halt_words.values.flatten().tolist()\n",
    "    NB_train_data_features = pd.read_csv(filepath_or_buffer='traindata.txt', header=None)\n",
    "    NB_train_data_labels = pd.read_csv(filepath_or_buffer='trainlabels.txt', header=None)\n",
    "    NB_train_da_word_labels = pd.DataFrame(data={'features': NB_train_data_features[0], 'labels': NB_train_data_labels[0]}, columns=['features', 'labels'])\n",
    "    NB_test_data_features = pd.read_csv(filepath_or_buffer='testdata.txt', header=None)\n",
    "    NB_testing_data_labels = pd.read_csv(filepath_or_buffer='testlabels.txt', header=None)\n",
    "    NB_test_word_labels = pd.DataFrame(data={'features': NB_test_data_features[0], 'labels': NB_test_data_features[0]}, columns=['features', 'labels'])\n",
    "    word_list_dir = NB_train_data_features[0].str.split()\n",
    "    word_dir_dicn = []\n",
    "    for i in word_list_dir:\n",
    "        for j in i:\n",
    "            if j not in NB_halt_words:\n",
    "                word_dir_dicn.append(j)   \n",
    "    word_dir_dicn = sorted(list(set(word_dir_dicn)))\n",
    "\n",
    "    \n",
    "    NB_training_max = []\n",
    "    for i in NB_train_data_features[0].str.split():\n",
    "        train_feat_vector = []    \n",
    "        \n",
    "        for j in word_dir_dicn:\n",
    "            \n",
    "            if j in i :\n",
    "                train_feat_vector.append(1)\n",
    "            else:\n",
    "                train_feat_vector.append(0)\n",
    "        NB_training_max.append(train_feat_vector)      \n",
    "    train_NB_dict_max = np.vstack(NB_training_max)    \n",
    "    Train_df_NB = pd.DataFrame(data=train_NB_dict_max, columns=word_dir_dicn)\n",
    "    Train_df_NB['labels'] = NB_train_data_labels\n",
    "    \n",
    "    NB_Max_test = []\n",
    "    for i in NB_test_data_features[0].str.split():\n",
    "        NB_fec_vec_test_for = []\n",
    "        \n",
    "        for j in word_dir_dicn:\n",
    "            \n",
    "            if j in i:\n",
    "                NB_fec_vec_test_for.append(1)\n",
    "            else:\n",
    "                NB_fec_vec_test_for.append(0)\n",
    "        NB_Max_test.append(NB_fec_vec_test_for)\n",
    "    Test_new_Mat_NB = np.vstack(NB_Max_test)\n",
    "    Test_NB_dataframe = pd.DataFrame(data=Test_new_Mat_NB, columns=word_dir_dicn)\n",
    "    Test_NB_dataframe['labels'] = NB_testing_data_labels\n",
    "    \n",
    "\n",
    "    return Train_df_NB, NB_train_data_features[0].tolist(), NB_train_da_word_labels, Test_NB_dataframe"
   ]
  },
  {
   "cell_type": "code",
   "execution_count": 3,
   "metadata": {},
   "outputs": [],
   "source": [
    "train_data, train_data_feat, train_data_comb, test_data = data_pro_scal()"
   ]
  },
  {
   "cell_type": "code",
   "execution_count": 4,
   "metadata": {},
   "outputs": [],
   "source": [
    "def co_nb_pro_dataset():\n",
    "\n",
    "    NB_train_for_msg = train_data_comb[train_data_comb['labels'] == 1]\n",
    "    NB_non_for_train_data = train_data_comb[train_data_comb['labels'] == 0]\n",
    "    \n",
    "    dict_fortune_msg = []\n",
    "    Dic_NB_non_for_data = []\n",
    "    \n",
    "    for i in train_data.columns[:-1]:\n",
    "        \n",
    "        count_i_in_fortune = 0\n",
    "        count_i_in_not_fortune = 0\n",
    "        \n",
    "   \n",
    "        for j in NB_train_for_msg['features']:\n",
    "            if i in j.split():\n",
    "                count_i_in_fortune +=1     \n",
    "        dict_fortune_msg.append( (count_i_in_fortune + 1) / ( NB_train_for_msg.shape[0] + 2) )\n",
    "        for k in NB_non_for_train_data['features']:\n",
    "            if i in k.split():\n",
    "                count_i_in_not_fortune +=1\n",
    "        Dic_NB_non_for_data.append( (count_i_in_not_fortune +1 )/ ( NB_non_for_train_data.shape[0] + 2) )\n",
    "        \n",
    "    return dict_fortune_msg, Dic_NB_non_for_data"
   ]
  },
  {
   "cell_type": "code",
   "execution_count": 5,
   "metadata": {},
   "outputs": [],
   "source": [
    "def get_prior_prob():\n",
    "    count_classes = train_data.groupby('labels').size()\n",
    "    prob_class_0 = count_classes[0] / np.sum(count_classes)\n",
    "    prob_class_1 = count_classes[1] / np.sum(count_classes)\n",
    "    \n",
    "    return prob_class_0, prob_class_1"
   ]
  },
  {
   "cell_type": "code",
   "execution_count": 6,
   "metadata": {},
   "outputs": [],
   "source": [
    "pc_0, pc_1 = get_prior_prob()"
   ]
  },
  {
   "cell_type": "code",
   "execution_count": 7,
   "metadata": {},
   "outputs": [],
   "source": [
    "dict_fr_msg, dict_n_fr_msg = co_nb_pro_dataset()"
   ]
  },
  {
   "cell_type": "code",
   "execution_count": 8,
   "metadata": {},
   "outputs": [],
   "source": [
    "def Count_accu_NB():\n",
    "    pred_labels = []\n",
    "    for i in range(len(train_data)):\n",
    "        \n",
    "        NB_data_col_1 = train_data.loc[i][:-1] * dict_fr_msg\n",
    "        NB_data_col_o = train_data.loc[i][:-1] * dict_n_fr_msg \n",
    "        \n",
    "        NB_data_col_1_indx = np.where(NB_data_col_1 != 0)\n",
    "        NB_data_col_o_indx = np.where(NB_data_col_o != 0)\n",
    "        \n",
    "        NB_data_col_1_prob = np.prod(NB_data_col_1[NB_data_col_1_indx[0]]) * pc_1\n",
    "        NB_data_col_o_prob = np.prod(NB_data_col_o[NB_data_col_o_indx[0]]) * pc_0\n",
    "\n",
    "        if NB_data_col_1_prob > NB_data_col_o_prob:\n",
    "            pred_labels.append(1)\n",
    "        else:\n",
    "            pred_labels.append(0)\n",
    "    \n",
    "    train_data['pred_labels'] = pred_labels\n",
    "            \n",
    "    print('Naive Bayes accuracy on training data %.2f %%' % (accuracy_score(train_data['labels'], train_data['pred_labels']) * 100 ))\n",
    "    \n",
    "    \n",
    "    test_labels = []\n",
    "    for i in range(len(test_data)):\n",
    "        \n",
    "        NB_data_col_1 = test_data.loc[i][:-1] * dict_fr_msg\n",
    "        NB_data_col_o = test_data.loc[i][:-1] * dict_n_fr_msg \n",
    "        \n",
    "        NB_data_col_1_indx = np.where(NB_data_col_1 != 0)\n",
    "        NB_data_col_o_indx = np.where(NB_data_col_o != 0)\n",
    "        \n",
    "        NB_data_col_1_prob = np.prod(NB_data_col_1[NB_data_col_1_indx[0]]) * pc_1\n",
    "        NB_data_col_o_prob = np.prod(NB_data_col_o[NB_data_col_o_indx[0]]) * pc_0\n",
    "        \n",
    "        if NB_data_col_1_prob > NB_data_col_o_prob:\n",
    "            test_labels.append(1)\n",
    "        else:\n",
    "            test_labels.append(0)\n",
    "    \n",
    "    test_data['pred_labels'] = test_labels\n",
    "    print('Naive Bayes accuracy on testing data %.2f %%' % (accuracy_score(test_data['labels'], test_data['pred_labels']) * 100))"
   ]
  },
  {
   "cell_type": "code",
   "execution_count": 9,
   "metadata": {},
   "outputs": [
    {
     "name": "stdout",
     "output_type": "stream",
     "text": [
      "Naive Bayes accuracy on training data 95.34 %\n",
      "Naive Bayes accuracy on testing data 82.18 %\n"
     ]
    }
   ],
   "source": [
    "Count_accu_NB()"
   ]
  },
  {
   "cell_type": "code",
   "execution_count": 10,
   "metadata": {},
   "outputs": [],
   "source": [
    "X_train = train_data.iloc[:,:-2]\n",
    "Y_train = train_data['labels']\n",
    "X_test = test_data.iloc[:, :-2]\n",
    "Y_test = test_data['labels']\n",
    "nb_model = BernoulliNB().fit(X_train, Y_train)"
   ]
  },
  {
   "cell_type": "code",
   "execution_count": 11,
   "metadata": {},
   "outputs": [
    {
     "name": "stdout",
     "output_type": "stream",
     "text": [
      "Naive Bayes sklearn accuracy on traning data 93.17 % \n",
      "Naive Bayes sklearn accuracy on testing data 77.23 % \n"
     ]
    }
   ],
   "source": [
    "print('Naive Bayes sklearn accuracy on traning data %.2f %% ' %(accuracy_score(Y_train, nb_model.predict(X_train)) *100 ) )\n",
    "print('Naive Bayes sklearn accuracy on testing data %.2f %% ' %( accuracy_score(Y_test, nb_model.predict(X_test)) *100 ))"
   ]
  },
  {
   "cell_type": "code",
   "execution_count": null,
   "metadata": {},
   "outputs": [],
   "source": []
  }
 ],
 "metadata": {
  "kernelspec": {
   "display_name": "Python 3",
   "language": "python",
   "name": "python3"
  },
  "language_info": {
   "codemirror_mode": {
    "name": "ipython",
    "version": 3
   },
   "file_extension": ".py",
   "mimetype": "text/x-python",
   "name": "python",
   "nbconvert_exporter": "python",
   "pygments_lexer": "ipython3",
   "version": "3.7.3"
  }
 },
 "nbformat": 4,
 "nbformat_minor": 2
}
